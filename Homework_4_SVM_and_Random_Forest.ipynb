{
  "nbformat": 4,
  "nbformat_minor": 0,
  "metadata": {
    "colab": {
      "provenance": [],
      "authorship_tag": "ABX9TyMxrA626FTQjIWziOIMW69O",
      "include_colab_link": true
    },
    "kernelspec": {
      "name": "python3",
      "display_name": "Python 3"
    },
    "language_info": {
      "name": "python"
    }
  },
  "cells": [
    {
      "cell_type": "markdown",
      "metadata": {
        "id": "view-in-github",
        "colab_type": "text"
      },
      "source": [
        "<a href=\"https://colab.research.google.com/github/xlzuvekas/Machine-Learning/blob/main/Homework_4_SVM_and_Random_Forest.ipynb\" target=\"_parent\"><img src=\"https://colab.research.google.com/assets/colab-badge.svg\" alt=\"Open In Colab\"/></a>"
      ]
    },
    {
      "cell_type": "markdown",
      "source": [
        "# Assignment 4: SVM & Random Forest Algorithm"
      ],
      "metadata": {
        "id": "_MTfZZBZycvD"
      }
    },
    {
      "cell_type": "markdown",
      "source": [
        "**ENCE 3631: Machine Learning**\n",
        "\n",
        "Xavier Zuvekas"
      ],
      "metadata": {
        "id": "VhvTKXsB4VsE"
      }
    },
    {
      "cell_type": "markdown",
      "source": [
        "# Problem 1: SVM Basics"
      ],
      "metadata": {
        "id": "zBKzV1wDZBFk"
      }
    },
    {
      "cell_type": "markdown",
      "source": [
        "Consider a support vector machine and the following training data from \n",
        "two categories: \n",
        "\n",
        "\n",
        " W1: (1,1)’  (2,2)’ (2,0)’ \n",
        "\n",
        " W2: (0,0)’ (1,0)’ (0,1)’ \n",
        "\n",
        "a) Plot these six training points, and construct by inspection the weight vector (W) for the optimal hyperplane, and the optimal margin. \n",
        "\n",
        "b) What are the support vectors? "
      ],
      "metadata": {
        "id": "784EuHBsypQo"
      }
    },
    {
      "cell_type": "code",
      "execution_count": 1,
      "metadata": {
        "colab": {
          "base_uri": "https://localhost:8080/",
          "height": 399
        },
        "id": "Rn3KBq3YyaWK",
        "outputId": "56942f12-a841-4f56-b5b5-31255f9e5666"
      },
      "outputs": [
        {
          "output_type": "stream",
          "name": "stdout",
          "text": [
            "The weight vector for the optimal hyperplane is:  [1.2 0.4]\n",
            "The support vectors are: \n",
            " [[1. 0.]\n",
            " [0. 1.]\n",
            " [1. 1.]\n",
            " [2. 0.]]\n"
          ]
        },
        {
          "output_type": "display_data",
          "data": {
            "text/plain": [
              "<Figure size 432x288 with 1 Axes>"
            ],
            "image/png": "[encoded data removed]"
          },
          "metadata": {
            "needs_background": "light"
          }
        }
      ],
      "source": [
        "import numpy as np\n",
        "import matplotlib.pyplot as plt\n",
        "from sklearn import svm\n",
        "\n",
        "# Define the training data\n",
        "W1 = np.array([[1, 1], [2, 2], [2, 0]])\n",
        "W2 = np.array([[0, 0], [1, 0], [0, 1]])\n",
        "\n",
        "# Concatenate the training data into array 'x'\n",
        "X = np.concatenate((W1, W2))\n",
        "\n",
        "# labels for the training data\n",
        "y = np.concatenate((np.ones(len(W1)), -np.ones(len(W2))))\n",
        "\n",
        "# Train the SVM classifier 'clf'\n",
        "clf = svm.SVC(kernel='linear', C=1.0)\n",
        "clf.fit(X, y)\n",
        "\n",
        "# Get the weights for the decision boundary\n",
        "w = clf.coef_[0]\n",
        "print(\"The weight vector for the optimal hyperplane is: \", w)\n",
        "\n",
        "# Get the support vectors\n",
        "support_vectors = clf.support_vectors_\n",
        "print(\"The support vectors are: \\n\", support_vectors)\n",
        "\n",
        "# Calculate the slope and intercept of the decision boundary\n",
        "slope = -w[0] / w[1]\n",
        "intercept = -clf.intercept_[0] / w[1]\n",
        "\n",
        "# Get the x and y vectors for the decision boundary\n",
        "xx = np.linspace(0, 2.5)\n",
        "yy = slope * xx + intercept\n",
        "\n",
        "# Plot the data points and decision boundary\n",
        "plt.scatter(X[:, 0], X[:, 1], c=y, cmap='bwr')\n",
        "plt.plot(xx, yy, 'k-')\n",
        "\n",
        "# Add labels and legend\n",
        "plt.xlabel('x')\n",
        "plt.ylabel('y')\n",
        "plt.title('SVM Decision Boundary')\n",
        "plt.show()\n"
      ]
    },
    {
      "cell_type": "markdown",
      "source": [
        "As shown on the 'SVM Decision Boundary' Plot, the weight vector for the optimal hyperplane is [1.2, 0.4]. The support vectors are \n",
        "\n",
        " [1.0, 0.0], \n",
        "\n",
        " [0.0, 1.0], \n",
        "\n",
        " [1.0, 1.0], \n",
        " \n",
        " [2.0, 0.0], "
      ],
      "metadata": {
        "id": "U6LtWfr3y6Hx"
      }
    },
    {
      "cell_type": "markdown",
      "source": [
        "# Problem 2: LibSVM & SKLearn For Pattern Classification using SVM\n",
        "\n"
      ],
      "metadata": {
        "id": "gEOguy9t3NI3"
      }
    },
    {
      "cell_type": "markdown",
      "source": [
        "**Background**\n",
        "\n",
        "Support Vector Machine (SVM) is a machine learning algorithm used for classification and regression analysis. SVM works by finding the hyperplane that best separates the data into classes. The hyperplane is defined as the decision boundary that maximizes the margin between the closest points of different classes, called support vectors.\n",
        "\n",
        "Essentially, SVM tries to find the best line or surface that can separate the data into two or more classes, and it does so by maximizing the margin between the closest points of different classes. This margin is defined as the distance between the hyperplane and the closest points of each class.\n",
        "\n",
        "If the data cannot be separated linearly, SVM can use the kernel to transform the data into a higher-dimensional space where it is linearly separable. The kernel function is used to calculate the dot product between the transformed data points.\n",
        "\n",
        "SVM is best used to handle high-dimensional data and works well with small to medium-sized datasets."
      ],
      "metadata": {
        "id": "bjP1CSsqeTew"
      }
    },
    {
      "cell_type": "markdown",
      "source": [
        "**Excercise**\n",
        "\n",
        "The objective of this computer exercise is to use either LibSVM or Sickit \n",
        "toolbox for pattern classification using SVM. \n",
        "\n",
        "**For LibSVM:**\n",
        "\n",
        "\n",
        "1.   Download the libsvm toolbox from http://www.csie.ntu.edu.tw/~cjlin/libsvm/ \n",
        "2.  Study the website and the readme files to become familiar with the toolbox and particularly using libsvm in Python. \n",
        "\n",
        "**Tasks:**\n",
        "\n",
        "\n",
        "\n",
        "1.  Apply SVM (multi-class) to the MNIT problem (hand-written characters recognition)\n",
        "2.   Use the original data without data dimensionality reduction \n",
        "3.  on the data with \n",
        "reduced dimensionality using PCA (90% and 95% of eigenvalues retained). \n",
        "\n",
        "  \n",
        " \n",
        " \n",
        "Report the accuracy and Confusion Matrix for the classifications done using SVM and \n",
        "compare your results using the following kernel choices. \n",
        "\n",
        "1.  Linear kernel \n",
        "\n",
        "2.  RBF kernel "
      ],
      "metadata": {
        "id": "0CROVyHeeIjb"
      }
    },
    {
      "cell_type": "code",
      "source": [
        "from keras.datasets import mnist\n",
        "\n",
        "\n",
        "(train_X, train_y), (test_X, test_y) = mnist.load_data()\n",
        "\n",
        "#Print test/train split\n",
        "print('X_train: ' + str(train_X.shape))\n",
        "print('Y_train: ' + str(train_y.shape))\n",
        "print('X_test:  '  + str(test_X.shape))\n",
        "print('Y_test:  '  + str(test_y.shape))"
      ],
      "metadata": {
        "colab": {
          "base_uri": "https://localhost:8080/"
        },
        "id": "ZXgdxeR24Ohf",
        "outputId": "5c53f6ca-777e-4402-df01-970a92229358"
      },
      "execution_count": 2,
      "outputs": [
        {
          "output_type": "stream",
          "name": "stdout",
          "text": [
            "X_train: (60000, 28, 28)\n",
            "Y_train: (60000,)\n",
            "X_test:  (10000, 28, 28)\n",
            "Y_test:  (10000,)\n"
          ]
        }
      ]
    },
    {
      "cell_type": "markdown",
      "source": [
        "Mnist dataset imported and test/train split\n",
        "\n",
        "- X_train: (60000, 28, 28)\n",
        "- Y_train: (60000,)\n",
        "- X_test:  (10000, 28, 28)\n",
        "- Y_test:  (10000,)\n"
      ],
      "metadata": {
        "id": "E118Vu1542Cy"
      }
    },
    {
      "cell_type": "code",
      "source": [
        "from matplotlib import pyplot\n",
        "\n",
        "#visualize first few images\n",
        "for i in range(9):  \n",
        "  pyplot.subplot(330 + 1 + i)\n",
        "  pyplot.imshow(train_X[i], cmap=pyplot.get_cmap('gray'))\n",
        "pyplot.show()\n"
      ],
      "metadata": {
        "colab": {
          "base_uri": "https://localhost:8080/",
          "height": 268
        },
        "id": "XG3RL94R47KU",
        "outputId": "df3b20a0-06e5-4b4c-e52f-cb22b82cb36c"
      },
      "execution_count": 3,
      "outputs": [
        {
          "output_type": "display_data",
          "data": {
            "text/plain": [
              "<Figure size 432x288 with 9 Axes>"
            ],
            "image/png": "[encoded data removed]"
          },
          "metadata": {
            "needs_background": "light"
          }
        }
      ]
    },
    {
      "cell_type": "markdown",
      "source": [
        "Now, let's import required packages and download the mnist dataset using fetch_openml('mnist_784')"
      ],
      "metadata": {
        "id": "6tIsJHc65w7l"
      }
    },
    {
      "cell_type": "code",
      "source": [
        "from sklearn.datasets import fetch_openml\n",
        "from sklearn.model_selection import train_test_split\n",
        "from sklearn.svm import SVC\n",
        "from sklearn.metrics import accuracy_score\n",
        "from sklearn.preprocessing import StandardScaler\n",
        "\n",
        "# load the dataset\n",
        "mnist = fetch_openml('mnist_784')\n",
        "\n",
        "# normalize pixel values\n",
        "X = mnist.data / 255.0\n",
        "y = mnist.target\n"
      ],
      "metadata": {
        "id": "E2MBVhveEwp2"
      },
      "execution_count": 4,
      "outputs": []
    },
    {
      "cell_type": "markdown",
      "source": [
        "Train SVM on MNIST Dataset using RBF Kernel & Make predictions"
      ],
      "metadata": {
        "id": "q630oC-MHWgd"
      }
    },
    {
      "cell_type": "code",
      "source": [
        "\n",
        "# split into training and test sets\n",
        "X_train, X_test, y_train, y_test = train_test_split(X, y, test_size=0.2, random_state=42)\n",
        "\n",
        "# standardize the data\n",
        "scaler = StandardScaler()\n",
        "X_train = scaler.fit_transform(X_train)\n",
        "X_test = scaler.transform(X_test)\n",
        "\n",
        "# train the SVM\n",
        "svm = SVC(kernel='rbf', C=1, gamma='scale')\n",
        "svm.fit(X_train, y_train)\n",
        "\n",
        "# make predictions on the test set\n",
        "y_pred = svm.predict(X_test)\n",
        "\n",
        "# calculate accuracy\n",
        "accuracy = accuracy_score(y_test, y_pred)\n",
        "print('Accuracy:', accuracy)\n"
      ],
      "metadata": {
        "colab": {
          "base_uri": "https://localhost:8080/"
        },
        "id": "bSBJWdcpEIdh",
        "outputId": "d9ce10a4-8b1e-4d9b-b408-88545dde2270"
      },
      "execution_count": 5,
      "outputs": [
        {
          "output_type": "stream",
          "name": "stdout",
          "text": [
            "Accuracy: 0.963\n"
          ]
        }
      ]
    },
    {
      "cell_type": "markdown",
      "source": [
        "Repeat using Linear Kernel"
      ],
      "metadata": {
        "id": "1si7PNvqHn5I"
      }
    },
    {
      "cell_type": "code",
      "source": [
        "import time\n",
        "# train the model with linear kernel\n",
        "start_time = time.time()\n",
        "model = SVC(kernel='linear')\n",
        "model.fit(X_train, y_train)\n",
        "training_time_linear = time.time() - start_time\n",
        "\n",
        "# test the model\n",
        "y_pred_linear = model.predict(X_test)\n",
        "\n",
        "# calculate accuracy\n",
        "accuracy = accuracy_score(y_test, y_pred_linear)\n",
        "print(f\"Accuracy using linear kernel: {accuracy:.4f}\")\n",
        "print(f\"Training time: {training_time_linear:.2f} seconds\")"
      ],
      "metadata": {
        "colab": {
          "base_uri": "https://localhost:8080/"
        },
        "id": "GvwhiVZ7HnYn",
        "outputId": "be63c3cb-9978-4bbb-a64f-5a096466ef89"
      },
      "execution_count": 6,
      "outputs": [
        {
          "output_type": "stream",
          "name": "stdout",
          "text": [
            "Accuracy using linear kernel: 0.9211\n",
            "Training time: 396.65 seconds\n"
          ]
        }
      ]
    },
    {
      "cell_type": "markdown",
      "source": [
        "**Notes**\n",
        "\n",
        "Using an RBF kernel, the SVM reported an accuracy of 96.3% across the test dataset. The Linear kernel performed slightly behind with an accuracy of 92.11% across the test dataset. \n",
        "\n",
        "\n",
        "**What's Next?**\n",
        "\n",
        "Time to repeat the tests with dimensionality reduction.  To make this easier, let's make a function for each of the models to take in parameters (train_data, train_label), and return an array of predictions. As we will be performing PCA, we will also make a function to accept (data, variance_retained) and return the number of dimensions to satisfy the variance threshold. "
      ],
      "metadata": {
        "id": "joPzgaMZJqrA"
      }
    },
    {
      "cell_type": "code",
      "source": [
        "from sklearn.decomposition import PCA\n",
        "from sklearn.metrics import confusion_matrix\n",
        "\n",
        "\n",
        "def num_dimensions_to_retain(X, variance_retained=0.9):\n",
        "    pca = PCA()\n",
        "    pca.fit(X)\n",
        "    cumsum = np.cumsum(pca.explained_variance_ratio_)\n",
        "    num_dims = np.argmax(cumsum >= variance_retained) + 1\n",
        "    return num_dims\n",
        "\n",
        "\n",
        "def linear_kernel_SVM(train_data, train_labels,test_data,test_labels):\n",
        "    start_time = time.time()\n",
        "    model = SVC(kernel='linear')\n",
        "    model.fit(train_data, train_labels)\n",
        "    training_time_linear = time.time() - start_time\n",
        "\n",
        "    # test the model\n",
        "    svm_predictions = model.predict(test_data)\n",
        "\n",
        "    # calculate accuracy\n",
        "    accuracy = accuracy_score(test_labels, svm_predictions)\n",
        "    print(f\"Accuracy using linear kernel: {accuracy:.4f}\")\n",
        "    print(f\"Training time: {training_time_linear:.2f} seconds\")\n",
        "    return svm_predictions, accuracy, training_time_linear\n",
        "\n",
        "def rbf_kernel_SVM(train_data, train_labels,test_data,test_labels):\n",
        "\n",
        "    start_time = time.time()\n",
        "\n",
        "    model = SVC(kernel='rbf', C=1, gamma='scale')\n",
        "    model.fit(X_train, y_train)\n",
        "\n",
        "    training_time_rbf = time.time() - start_time\n",
        "\n",
        "    # make predictions on the test set\n",
        "    svm_predictions = model.predict(test_data)\n",
        "\n",
        "    # calculate accuracy\n",
        "    accuracy = accuracy_score(test_labels, svm_predictions)\n",
        "    print(f\"Accuracy using rbf kernel: {accuracy:.4f}\")\n",
        "    print(f\"Training time: {training_time_linear:.2f} seconds\")\n",
        "    return svm_predictions, accuracy, training_time_rbf\n",
        "\n",
        "\n",
        "def apply_pca(dataset, num_components):\n",
        "    # create PCA object with specified number of components\n",
        "    pca = PCA(n_components=num_components)\n",
        "    \n",
        "    # fit PCA on dataset\n",
        "    pca.fit(dataset)\n",
        "    \n",
        "    # transform dataset\n",
        "    transformed_dataset = pca.transform(dataset)\n",
        "    \n",
        "    return transformed_dataset\n",
        "\n",
        "\n",
        "#print(num_dimensions_to_retain(X_train,0.9)) #235 dimensions required in order to maintain 90% of eigenvalues\n",
        "#print(num_dimensions_to_retain(X_train,0.95)) #330 dimensions required in order to maintain 95% of eigenvalues\n",
        "\n",
        "# apply PCA on X_train to maintain 90% and 95% of eigenvalues\n",
        "train_data_pca_90 = apply_pca(X_train, 235)\n",
        "\n",
        "train_data_pca_95 = apply_pca(X_train, 330)\n",
        "\n",
        "test_data_pca_90 = apply_pca(X_test, 235)\n",
        "\n",
        "test_data_pca_95 = apply_pca(X_test, 330)\n",
        "\n"
      ],
      "metadata": {
        "id": "C01M1zvuKbB8"
      },
      "execution_count": 7,
      "outputs": []
    },
    {
      "cell_type": "markdown",
      "source": [
        "Components to retain 90% of Eigenvalues: 235 \n",
        "\n",
        "Components to retain 95% of Eigenvalues: 330\n",
        "\n",
        "train_data_pca_90 and train_data_pca_95 store X_train after PCA dimensionality reduction has been applied. Now let's test how this affects performance compared to the unaltered dataset."
      ],
      "metadata": {
        "id": "M8dwz7IxP6Xa"
      }
    },
    {
      "cell_type": "code",
      "source": [
        "#run RBF Kernel retaining 90% of eigenvalues\n",
        "print(\"RBF Kernel PCA 90\")\n",
        "rbf_90_predictions, rbf_90_accuracy, rbf_90_training_time =rbf_kernel_SVM(train_data_pca_90, y_train, X_test, y_test)\n",
        "\n",
        "#run RBF Kernel retaining 95% of eigenvalues\n",
        "print(\"RBF Kernel PCA 95\")\n",
        "rbf_95_predictions, rbf_95_accuracy, rbf_95_training_time =rbf_kernel_SVM(train_data_pca_95, y_train, X_test, y_test)\n",
        "\n"
      ],
      "metadata": {
        "colab": {
          "base_uri": "https://localhost:8080/"
        },
        "id": "-6rYDpb_P379",
        "outputId": "9800ee45-a5ef-4321-ce77-ca86245ef517"
      },
      "execution_count": 8,
      "outputs": [
        {
          "output_type": "stream",
          "name": "stdout",
          "text": [
            "RBF Kernel PCA 90\n",
            "Accuracy using rbf kernel: 0.9630\n",
            "Training time: 396.65 seconds\n",
            "RBF Kernel PCA 95\n",
            "Accuracy using rbf kernel: 0.9630\n",
            "Training time: 396.65 seconds\n"
          ]
        }
      ]
    },
    {
      "cell_type": "code",
      "source": [
        "#run Linear Kernel retaining 90% of eigenvalues\n",
        "print(\"Linear Kernel PCA 90\")\n",
        "linear_90_predictions, linear_90_accuracy, linear_90_training_time = linear_kernel_SVM(train_data_pca_90, y_train, test_data_pca_90, y_test)\n",
        "\n",
        "#run Linear Kernel retaining 95% of eigenvalues\n",
        "print(\"Linear Kernel PCA 95\")\n",
        "linear_95_predictions, linear_95_accuracy, linear_95_training_time =linear_kernel_SVM(train_data_pca_95, y_train, test_data_pca_95, y_test)\n"
      ],
      "metadata": {
        "colab": {
          "base_uri": "https://localhost:8080/"
        },
        "id": "JPcKbfzlXhaw",
        "outputId": "667d0dcb-6340-4a5e-ab80-d0f539b5f4c0"
      },
      "execution_count": 9,
      "outputs": [
        {
          "output_type": "stream",
          "name": "stdout",
          "text": [
            "Linear Kernel PCA 90\n",
            "Accuracy using linear kernel: 0.0870\n",
            "Training time: 287.36 seconds\n",
            "Linear Kernel PCA 95\n",
            "Accuracy using linear kernel: 0.0848\n",
            "Training time: 323.96 seconds\n"
          ]
        }
      ]
    },
    {
      "cell_type": "markdown",
      "source": [
        "**Notes**\n",
        "\n",
        "After running the RBF and linear kernels on the PCA transformed datasets, there was little difference introduced through dimensionality reduction, with massive improvements in training time on the linear models. \n",
        "\n",
        "Additionally, the training time was the same across tests. This is expected, as the same amount of data is introduced to each SVM. All SVMs use the same algorithm, therefore runtime is expected to stay the same across tests. \n",
        "\n",
        "**The C Parameter**\n",
        "\n",
        "In an SVM, the C parameter controls the tradeoff between having a larger margin and correctly classifying all training examples.\n",
        "\n",
        "A smaller C value will result in a larger margin, allowing more misclassifications, while a larger C value will result in a smaller margin and fewer misclassifications. Therefore, a smaller C value is typically used to prevent overfitting, while a larger C value is typically used to improve accuracy.\n",
        "\n",
        "Additionally, lower C values had lower training time."
      ],
      "metadata": {
        "id": "Sw-O0uH8V8Nd"
      }
    },
    {
      "cell_type": "markdown",
      "source": [
        "# Problem 3: Random Forest Algorithm & OCR"
      ],
      "metadata": {
        "id": "4xOYeyLVaPpU"
      }
    },
    {
      "cell_type": "markdown",
      "source": [
        "**Background on the Random Forest Algorithm**\n",
        "\n",
        "Random Forest is a supervised machine learning algorithm used for classification, regression, and other tasks. It is an ensemble method that combines multiple decision trees to improve accuracy and robustness.\n",
        "\n",
        "Random Forest works by constructing multiple decision trees at training time and outputting the class that is the mode of the classes (classification) or mean prediction (regression) of the individual trees. Each tree is constructed by selecting a random subset of features from the training set and then finding the best split based on some criteria, typically the Gini index or information gain.\n",
        "\n",
        "At test time, each tree in the forest is used to predict the class of the input data point, and the class with the most votes is selected as the final prediction. Random Forest is known for its ability to handle noisy and high-dimensional data, and for being resistant to overfitting."
      ],
      "metadata": {
        "id": "0cRBAlNRdstU"
      }
    },
    {
      "cell_type": "markdown",
      "source": [
        "**Excercise**\n",
        "\n",
        "Apply the Random Forest Algorithm available in Python (sickitlearn) to \n",
        "MNIST database and do OCR as you did before. \n",
        "\n",
        "Try Random Forest:\n",
        "1.  -- on the original data without data dimensionality reduction\n",
        "2.  -- on the data with reduced dimensionality using PCA (90% and 95% of eigenvalues retained). "
      ],
      "metadata": {
        "id": "toIH82juaYB8"
      }
    },
    {
      "cell_type": "code",
      "source": [
        "from keras.datasets import mnist\n",
        "from sklearn.ensemble import RandomForestClassifier\n",
        "from sklearn.decomposition import PCA\n",
        "from sklearn.metrics import accuracy_score, confusion_matrix\n",
        "import numpy as np\n",
        "import time\n",
        "\n",
        "\n",
        "def perform_pca(data, n_components):\n",
        "    pca = PCA(n_components=n_components)\n",
        "    pca.fit(data)\n",
        "    transformed_data = pca.transform(data)\n",
        "    return transformed_data\n",
        "\n",
        "\n",
        "def train_rf(train_data, train_labels, test_data, test_labels):\n",
        "    start_time = time.time()\n",
        "\n",
        "    rf = RandomForestClassifier()\n",
        "    rf.fit(train_data, train_labels)\n",
        "\n",
        "    training_time = time.time() - start_time\n",
        "\n",
        "    rf_predictions = rf.predict(test_data)\n",
        "\n",
        "    accuracy = accuracy_score(test_labels, rf_predictions)\n",
        "    print(\"Training time: %.2f seconds\" % training_time)\n",
        "    print(\"Accuracy: %.4f\" % accuracy)\n",
        "\n",
        "    cm = confusion_matrix(test_labels, rf_predictions)\n",
        "    print(\"Confusion matrix:\")\n",
        "    print(cm)\n",
        "\n",
        "    return training_time, accuracy, cm\n",
        "\n",
        "\n",
        "(train_X, train_y), (test_X, test_y) = mnist.load_data()\n",
        "\n",
        "# Reshape data to 2D and normalize pixel values\n",
        "train_X = np.reshape(train_X, (train_X.shape[0], -1)) / 255.\n",
        "test_X = np.reshape(test_X, (test_X.shape[0], -1)) / 255.\n",
        "\n",
        "# Combine training and test data for PCA\n",
        "combined_data = np.concatenate((train_X, test_X))\n",
        "\n",
        "# PCA with 90% retained eigenvalues\n",
        "pca_combined_data = perform_pca(combined_data, 0.9)\n",
        "pca_train_data = pca_combined_data[:len(train_X)]\n",
        "pca_test_data = pca_combined_data[len(train_X):]\n",
        "print(\"Random Forest on dataset with 90% retained eigenvalues\")\n",
        "train_rf(pca_train_data, train_y, pca_test_data, test_y)\n",
        "\n",
        "# PCA with 95% retained eigenvalues\n",
        "pca_combined_data = perform_pca(combined_data, 0.95)\n",
        "pca_train_data = pca_combined_data[:len(train_X)]\n",
        "pca_test_data = pca_combined_data[len(train_X):]\n",
        "print(\"Random Forest on dataset with 95% retained eigenvalues\")\n",
        "train_rf(pca_train_data, train_y, pca_test_data, test_y)\n",
        "\n",
        "# Random Forest on original data\n",
        "print(\"Random Forest on original data\")\n",
        "train_rf(train_X, train_y, test_X, test_y)\n"
      ],
      "metadata": {
        "colab": {
          "base_uri": "https://localhost:8080/"
        },
        "id": "1FfC1L_kh4Ss",
        "outputId": "1c655e00-2496-451e-dace-eef0649b1559"
      },
      "execution_count": 10,
      "outputs": [
        {
          "output_type": "stream",
          "name": "stdout",
          "text": [
            "Random Forest on dataset with 90% retained eigenvalues\n",
            "Training time: 55.31 seconds\n",
            "Accuracy: 0.9191\n",
            "Confusion matrix:\n",
            "[[ 948    0    3    4    1    6   10    2    5    1]\n",
            " [   0 1113    2    6    0    1    4    1    8    0]\n",
            " [  10    0  913   25   15    1    5   13   47    3]\n",
            " [   4    0    9  924    2   19    4    7   32    9]\n",
            " [   1    5    8    2  902    5   13    3    6   37]\n",
            " [   7    1    7   42    7  793   13    6   10    6]\n",
            " [  12    4    8    1    6    7  918    2    0    0]\n",
            " [   2   17   32    3    4    0    1  925   12   32]\n",
            " [   8    1   13   41    9   23    7    6  849   17]\n",
            " [   8    6    3   15   37    5    1   15   13  906]]\n",
            "Random Forest on dataset with 95% retained eigenvalues\n",
            "Training time: 74.18 seconds\n",
            "Accuracy: 0.9184\n",
            "Confusion matrix:\n",
            "[[ 948    0    3    4    0    6    9    4    4    2]\n",
            " [   0 1116    2    6    0    0    4    0    7    0]\n",
            " [   9    1  921   19   10    2    5    9   52    4]\n",
            " [   5    1   12  924    1   18    3   12   26    8]\n",
            " [   2    5    7    2  898    5   14    3    6   40]\n",
            " [  10    2    6   50    9  776   12    7   13    7]\n",
            " [   9    4    5    1    7    8  923    0    1    0]\n",
            " [   4   18   23    1    7    2    1  933   10   29]\n",
            " [   5    1   11   43   10   22    5    8  855   14]\n",
            " [  11    8    2   17   50    7    0   17    7  890]]\n",
            "Random Forest on original data\n",
            "Training time: 34.67 seconds\n",
            "Accuracy: 0.9486\n",
            "Confusion matrix:\n",
            "[[ 968    0    0    0    0    2    4    1    4    1]\n",
            " [   0 1120    3    3    0    2    3    1    3    0]\n",
            " [   7    1  967   10   12    0    9   17    8    1]\n",
            " [   2    0   16  947    1   15    0   14   10    5]\n",
            " [   1    1    1    0  920    0    9    2    6   42]\n",
            " [   5    5    4   18    6  829    7    4    6    8]\n",
            " [   9    3    1    0    4    7  930    0    4    0]\n",
            " [   2   10   23    2    5    0    0  953    5   28]\n",
            " [   4    2    6   10    6    6    6    4  910   20]\n",
            " [   6    7    3   14   15    3    1    5   13  942]]\n"
          ]
        },
        {
          "output_type": "execute_result",
          "data": {
            "text/plain": [
              "(34.666340589523315,\n",
              " 0.9486,\n",
              " array([[ 968,    0,    0,    0,    0,    2,    4,    1,    4,    1],\n",
              "        [   0, 1120,    3,    3,    0,    2,    3,    1,    3,    0],\n",
              "        [   7,    1,  967,   10,   12,    0,    9,   17,    8,    1],\n",
              "        [   2,    0,   16,  947,    1,   15,    0,   14,   10,    5],\n",
              "        [   1,    1,    1,    0,  920,    0,    9,    2,    6,   42],\n",
              "        [   5,    5,    4,   18,    6,  829,    7,    4,    6,    8],\n",
              "        [   9,    3,    1,    0,    4,    7,  930,    0,    4,    0],\n",
              "        [   2,   10,   23,    2,    5,    0,    0,  953,    5,   28],\n",
              "        [   4,    2,    6,   10,    6,    6,    6,    4,  910,   20],\n",
              "        [   6,    7,    3,   14,   15,    3,    1,    5,   13,  942]]))"
            ]
          },
          "metadata": {},
          "execution_count": 10
        }
      ]
    },
    {
      "cell_type": "markdown",
      "source": [
        "**Results**\n",
        "\n",
        "| Random Forest Training Data                              | Training Time (s) | Accuracy |\n",
        "| ------------------------------------ | ----------------- | -------- |\n",
        "| Without PCA                          | 50.30             | 0.9705   |\n",
        "| With PCA (90% Retained Eigenvalues)  | 93.99             | 0.951    |\n",
        "| With PCA (95% Retained Eigenvalues)  | 122.77            | 0.9478   |\n",
        "| Random Forest on dataset with 90% retained eigenvalues | 57.99 seconds | 0.9191 |\n",
        "| Random Forest on dataset with 95% retained eigenvalues | 76.52 seconds | 0.9184 |\n",
        "| Random Forest on original data       | 32.69 seconds     | 0.9486   |\n",
        "\n",
        "**Analysis**\n",
        "\n",
        "Interestingly, the random forest algorithm performed best with the untransformed, 784 dimension MNIST dataset with an accuracy of 97.05%. PCA with 90% of eigenvalues retained had an accuracy of 95.1%, and PCA with 95% of eigenvalues retained had an accuracy of 94.75%. This is likely due to Random forest performing better with higher dimensional data, as the 784 dimension input had the lowest training time at 50.30 seconds, with the highest accuracy of 97.05%. However, it's worth noting that the random forest algorithm still performed well with the reduced dimensionality datasets, achieving an accuracy of 91.91% and 91.84% with PCA retaining 90% and 95% of the eigenvalues respectively.\n",
        "\n"
      ],
      "metadata": {
        "id": "JMqGMPL0fGhd"
      }
    },
    {
      "cell_type": "markdown",
      "source": [
        "# Problem 4: Linear Discriminant Analysis"
      ],
      "metadata": {
        "id": "Eop6vEAVoc3r"
      }
    },
    {
      "cell_type": "markdown",
      "source": [
        "**Excercise**\n",
        "\n",
        "Use the implementation of LDA provided by Scikit \n",
        "Learn toolbox to the MNIST problem. report the accuracy and confusion matrix. "
      ],
      "metadata": {
        "id": "St6uftmvonYK"
      }
    },
    {
      "cell_type": "markdown",
      "source": [
        "**Getting Started**\n",
        "\n",
        "Let's implement a function that performs LDA on the input data and returns the training time, accuracy, and confusion matrix."
      ],
      "metadata": {
        "id": "cthHHBAYpUwC"
      }
    },
    {
      "cell_type": "code",
      "source": [
        "mnist = fetch_openml('mnist_784')\n",
        "\n",
        "# normalize pixel values\n",
        "X = mnist.data / 255.0\n",
        "y = mnist.target\n",
        "\n",
        "# split into training and test sets\n",
        "train_data, test_data, train_labels, test_labels = train_test_split(X, y, test_size=0.2, random_state=42)"
      ],
      "metadata": {
        "id": "oj3oFK_N1Ml-"
      },
      "execution_count": 15,
      "outputs": []
    },
    {
      "cell_type": "markdown",
      "source": [
        "Call the function with the appropriate arguments to perform LDA without PCA."
      ],
      "metadata": {
        "id": "mjIM_x_D1pwQ"
      }
    },
    {
      "cell_type": "code",
      "source": [
        "from sklearn.discriminant_analysis import LinearDiscriminantAnalysis\n",
        "from sklearn.metrics import accuracy_score, confusion_matrix\n",
        "import time\n",
        "\n",
        "def lda_mnist(train_data, train_labels, test_data, test_labels):\n",
        "    # Initialize LDA\n",
        "    lda = LinearDiscriminantAnalysis()\n",
        "\n",
        "    # Train the model\n",
        "    start_time = time.time()\n",
        "    lda.fit(train_data, train_labels)\n",
        "    train_time = time.time() - start_time\n",
        "\n",
        "    # Make predictions\n",
        "    lda_predicted = lda.predict(test_data)\n",
        "\n",
        "    # Calculate accuracy\n",
        "    accuracy = accuracy_score(test_labels, lda_predicted)\n",
        "\n",
        "    # Calculate confusion matrix\n",
        "    confusion = confusion_matrix(test_labels, lda_predicted)\n",
        "\n",
        "    # Print results\n",
        "    print(\"LDA\")\n",
        "    print(\"Training time:\", train_time, \"seconds\")\n",
        "    print(\"Accuracy:\", accuracy)\n",
        "    print(\"Confusion matrix:\\n\", confusion)\n",
        "\n",
        "    # Return results\n",
        "    return train_time, accuracy, confusion\n",
        "    \n",
        "# Perform LDA on the data without PCA\n",
        "lda_mnist(train_data, train_labels, test_data, test_labels)"
      ],
      "metadata": {
        "colab": {
          "base_uri": "https://localhost:8080/"
        },
        "id": "-DFEb721oz_K",
        "outputId": "4ab0c23f-5668-48e2-dfb6-22ab2144e6fd"
      },
      "execution_count": 16,
      "outputs": [
        {
          "output_type": "stream",
          "name": "stdout",
          "text": [
            "LDA\n",
            "Training time: 25.124205827713013 seconds\n",
            "Accuracy: 0.8677142857142857\n",
            "Confusion matrix:\n",
            " [[1261    2    9    4    5   30   17    1   13    1]\n",
            " [   0 1533    5   12    1   13    0    2   29    5]\n",
            " [  13   51 1117   50   34   11   37    8   54    5]\n",
            " [   1   21   38 1203    9   52    6   30   42   31]\n",
            " [   1    8   13    0 1156    9    5    1   14   88]\n",
            " [  12   17    7   65   12 1039   23   10   70   18]\n",
            " [  11   14   21    0   32   36 1270    0   11    1]\n",
            " [   9   34   10   12   39    5    0 1270    8  116]\n",
            " [   6   84   12   47   13   68    7    3 1071   46]\n",
            " [   7    8    7   21   72    6    0   57   14 1228]]\n"
          ]
        },
        {
          "output_type": "execute_result",
          "data": {
            "text/plain": [
              "(25.124205827713013,\n",
              " 0.8677142857142857,\n",
              " array([[1261,    2,    9,    4,    5,   30,   17,    1,   13,    1],\n",
              "        [   0, 1533,    5,   12,    1,   13,    0,    2,   29,    5],\n",
              "        [  13,   51, 1117,   50,   34,   11,   37,    8,   54,    5],\n",
              "        [   1,   21,   38, 1203,    9,   52,    6,   30,   42,   31],\n",
              "        [   1,    8,   13,    0, 1156,    9,    5,    1,   14,   88],\n",
              "        [  12,   17,    7,   65,   12, 1039,   23,   10,   70,   18],\n",
              "        [  11,   14,   21,    0,   32,   36, 1270,    0,   11,    1],\n",
              "        [   9,   34,   10,   12,   39,    5,    0, 1270,    8,  116],\n",
              "        [   6,   84,   12,   47,   13,   68,    7,    3, 1071,   46],\n",
              "        [   7,    8,    7,   21,   72,    6,    0,   57,   14, 1228]]))"
            ]
          },
          "metadata": {},
          "execution_count": 16
        }
      ]
    },
    {
      "cell_type": "markdown",
      "source": [
        "To perform LDA with PCA on the input data, we will include PCA as a preprocessing step before LDA."
      ],
      "metadata": {
        "id": "hLOgDM23pmm7"
      }
    },
    {
      "cell_type": "code",
      "source": [
        "from sklearn.decomposition import PCA\n",
        "from sklearn.discriminant_analysis import LinearDiscriminantAnalysis\n",
        "from sklearn.metrics import accuracy_score, confusion_matrix\n",
        "import time\n",
        "\n",
        "def lda_mnist(train_data, train_labels, test_data, test_labels, pca_retained_variance=0.9):\n",
        "    # Initialize PCA\n",
        "    pca = PCA(n_components=pca_retained_variance)\n",
        "\n",
        "    # Apply PCA to the data\n",
        "    pca_train_data = pca.fit_transform(train_data)\n",
        "    pca_test_data = pca.transform(test_data)\n",
        "\n",
        "    # Initialize LDA\n",
        "    lda = LinearDiscriminantAnalysis()\n",
        "\n",
        "    # Train the model\n",
        "    start_time = time.time()\n",
        "    lda.fit(pca_train_data, train_labels)\n",
        "    train_time = time.time() - start_time\n",
        "\n",
        "    # Make predictions\n",
        "    lda_predicted = lda.predict(pca_test_data)\n",
        "\n",
        "    # Calculate accuracy\n",
        "    accuracy = accuracy_score(test_labels, lda_predicted)\n",
        "\n",
        "    # Calculate confusion matrix\n",
        "    confusion = confusion_matrix(test_labels, lda_predicted)\n",
        "\n",
        "    # Print results\n",
        "    print(\"LDA with PCA (\", pca_retained_variance * 100, \"% Retained Variance)\")\n",
        "    print(\"Training time:\", train_time, \"seconds\")\n",
        "    print(\"Accuracy:\", accuracy)\n",
        "    print(\"Confusion matrix:\\n\", confusion)\n",
        "\n",
        "    # Return results\n",
        "    return train_time, accuracy, confusion\n"
      ],
      "metadata": {
        "id": "JyQP4vgapCQr"
      },
      "execution_count": 17,
      "outputs": []
    },
    {
      "cell_type": "markdown",
      "source": [
        "Call the function with the appropriate arguments to perform LDA with PCA."
      ],
      "metadata": {
        "id": "vBuOSONDpFag"
      }
    },
    {
      "cell_type": "code",
      "source": [
        "# Perform LDA on the data with PCA retaining 90% of the variance\n",
        "lda_mnist(train_data, train_labels, test_data, test_labels, pca_retained_variance=0.9)\n",
        "\n",
        "# Perform LDA on the data with PCA retaining 95% of the variance\n",
        "lda_mnist(train_data, train_labels, test_data, test_labels, pca_retained_variance=0.95)\n"
      ],
      "metadata": {
        "colab": {
          "base_uri": "https://localhost:8080/"
        },
        "id": "XZ_WMKvkpFLQ",
        "outputId": "c7458c4c-0040-4ed4-e0b4-9de6caa7423d"
      },
      "execution_count": 19,
      "outputs": [
        {
          "output_type": "stream",
          "name": "stdout",
          "text": [
            "LDA with PCA ( 90.0 % Retained Variance)\n",
            "Training time: 1.3346972465515137 seconds\n",
            "Accuracy: 0.8705714285714286\n",
            "Confusion matrix:\n",
            " [[1245    2    5    5    3   43   20    2   14    4]\n",
            " [   0 1530    4   10    1   13    1    6   31    4]\n",
            " [  11   56 1121   31   24   10   36   21   56   14]\n",
            " [   2   22   36 1197    4   64   14   30   36   28]\n",
            " [   1    8    9    0 1152    4    9    2   10  100]\n",
            " [  14   17    6   73   21 1017   23   11   68   23]\n",
            " [   5   12   12    1   30   38 1287    0    9    2]\n",
            " [   5   38   11    6   26    6    2 1308   10   91]\n",
            " [   8   73   11   55   13   65   12    7 1080   33]\n",
            " [   9    9    6   19   64    8    1   42   11 1251]]\n",
            "LDA with PCA ( 95.0 % Retained Variance)\n",
            "Training time: 2.63305401802063 seconds\n",
            "Accuracy: 0.8712857142857143\n",
            "Confusion matrix:\n",
            " [[1251    2    5    9    4   38   18    1   14    1]\n",
            " [   0 1526    4   12    1   14    2    2   34    5]\n",
            " [  10   52 1130   40   32   11   35   11   49   10]\n",
            " [   1   20   37 1206    5   52   14   32   39   27]\n",
            " [   1    9   11    0 1152    9    6    2   13   92]\n",
            " [  10   17    7   65   14 1030   20   10   73   27]\n",
            " [   9   12   15    1   29   30 1289    0   10    1]\n",
            " [   6   36   12    8   28    4    1 1294   10  104]\n",
            " [   7   78   12   52   16   63   14    8 1068   39]\n",
            " [   8   10    7   18   65    5    2   41   12 1252]]\n"
          ]
        },
        {
          "output_type": "execute_result",
          "data": {
            "text/plain": [
              "(2.63305401802063,\n",
              " 0.8712857142857143,\n",
              " array([[1251,    2,    5,    9,    4,   38,   18,    1,   14,    1],\n",
              "        [   0, 1526,    4,   12,    1,   14,    2,    2,   34,    5],\n",
              "        [  10,   52, 1130,   40,   32,   11,   35,   11,   49,   10],\n",
              "        [   1,   20,   37, 1206,    5,   52,   14,   32,   39,   27],\n",
              "        [   1,    9,   11,    0, 1152,    9,    6,    2,   13,   92],\n",
              "        [  10,   17,    7,   65,   14, 1030,   20,   10,   73,   27],\n",
              "        [   9,   12,   15,    1,   29,   30, 1289,    0,   10,    1],\n",
              "        [   6,   36,   12,    8,   28,    4,    1, 1294,   10,  104],\n",
              "        [   7,   78,   12,   52,   16,   63,   14,    8, 1068,   39],\n",
              "        [   8,   10,    7,   18,   65,    5,    2,   41,   12, 1252]]))"
            ]
          },
          "metadata": {},
          "execution_count": 19
        }
      ]
    },
    {
      "cell_type": "markdown",
      "source": [
        "**LDA Results**"
      ],
      "metadata": {
        "id": "_WKDYtoO3aWE"
      }
    },
    {
      "cell_type": "markdown",
      "source": [
        "| Model | Retained Variance | Training Time (s) | Accuracy |\n",
        "|-------|------------------|-------------------|----------|\n",
        "| LDA without PCA | N/A | 25.12 | 0.8677 |\n",
        "| LDA with PCA | 90.0% | 1.33 | 0.8706 |\n",
        "| LDA with PCA | 95.0% | 2.63 | 0.8713 |\n"
      ],
      "metadata": {
        "id": "6B5B2qgh3X9H"
      }
    },
    {
      "cell_type": "markdown",
      "source": [
        "**Analysis**\n",
        "\n",
        "The table shows the performance of Linear Discriminant Analysis (LDA) algorithm on a dataset with and without Principal Component Analysis (PCA) applied. The dataset has 10 classes, and the accuracy and training time are reported for each model.\n",
        "\n",
        "Without PCA, the LDA algorithm achieves an accuracy of 0.8677 and a training time of 25.12 seconds. This is compared with two different iterations of PCA, the LDA algorithm is applied twice, once with 90% retained variance and once with 95% retained variance. The LDA algorithm with 90% retained variance achieved an accuracy of 0.8706 and a training time of 1.33 seconds, while the LDA algorithm with 95% retained variance achieved an accuracy of 0.8713 and a training time of 2.63 seconds.\n",
        "\n",
        "Comparing the three models, we can see that applying PCA can significantly reduce the dimensionality of the data, leading to faster training times while maintaining similar accuracy. Specifically, the LDA model with PCA and 95% retained variance achieved a slightly higher accuracy than the LDA model without PCA, while being over 9 times faster in training."
      ],
      "metadata": {
        "id": "p7KSm93f3lK-"
      }
    },
    {
      "cell_type": "markdown",
      "source": [
        "**Appendix 1**\n",
        "\n",
        "\n",
        "**LDA without PCA Results**\n",
        "\n",
        "Training time: 25.124205827713013 seconds\n",
        "\n",
        "Accuracy: 0.8677142857142857\n",
        "\n",
        "Confusion matrix:\n",
        "\n",
        " [[1261    2    9    4    5   30   17    1   13    1]\n",
        " [   0 1533    5   12    1   13    0    2   29    5]\n",
        " [  13   51 1117   50   34   11   37    8   54    5]\n",
        " [   1   21   38 1203    9   52    6   30   42   31]\n",
        " [   1    8   13    0 1156    9    5    1   14   88]\n",
        " [  12   17    7   65   12 1039   23   10   70   18]\n",
        " [  11   14   21    0   32   36 1270    0   11    1]\n",
        " [   9   34   10   12   39    5    0 1270    8  116]\n",
        " [   6   84   12   47   13   68    7    3 1071   46]\n",
        " [   7    8    7   21   72    6    0   57   14 1228]]\n",
        "\n",
        "\n",
        "\n",
        "\n",
        "\n",
        "**LDA with PCA ( 90.0 % Retained Variance)**\n",
        "\n",
        "\n",
        "Training time: 1.3346972465515137 seconds\n",
        "\n",
        "Accuracy: 0.8705714285714286\n",
        "\n",
        "Confusion matrix:\n",
        "\n",
        " [[1245    2    5    5    3   43   20    2   14    4]\n",
        " [   0 1530    4   10    1   13    1    6   31    4]\n",
        " [  11   56 1121   31   24   10   36   21   56   14]\n",
        " [   2   22   36 1197    4   64   14   30   36   28]\n",
        " [   1    8    9    0 1152    4    9    2   10  100]\n",
        " [  14   17    6   73   21 1017   23   11   68   23]\n",
        " [   5   12   12    1   30   38 1287    0    9    2]\n",
        " [   5   38   11    6   26    6    2 1308   10   91]\n",
        " [   8   73   11   55   13   65   12    7 1080   33]\n",
        " [   9    9    6   19   64    8    1   42   11 1251]]\n",
        "\n",
        "\n",
        "**LDA with PCA ( 95.0 % Retained Variance)**\n",
        "\n",
        "\n",
        "Training time: 2.63305401802063 seconds\n",
        "\n",
        "Accuracy: 0.8712857142857143\n",
        "\n",
        "Confusion matrix:\n",
        "\n",
        " [[1251    2    5    9    4   38   18    1   14    1]\n",
        " [   0 1526    4   12    1   14    2    2   34    5]\n",
        " [  10   52 1130   40   32   11   35   11   49   10]\n",
        " [   1   20   37 1206    5   52   14   32   39   27]\n",
        " [   1    9   11    0 1152    9    6    2   13   92]\n",
        " [  10   17    7   65   14 1030   20   10   73   27]\n",
        " [   9   12   15    1   29   30 1289    0   10    1]\n",
        " [   6   36   12    8   28    4    1 1294   10  104]\n",
        " [   7   78   12   52   16   63   14    8 1068   39]\n",
        " [   8   10    7   18   65    5    2   41   12 1252]]\n"
      ],
      "metadata": {
        "id": "ssRxZ2aFpw4J"
      }
    }
  ]
}